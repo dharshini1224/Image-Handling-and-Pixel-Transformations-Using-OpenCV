{
 "cells": [
  {
   "cell_type": "markdown",
   "id": "70098e27",
   "metadata": {},
   "source": [
    "## Experiment 01-Image-Handling-and-Pixel-Transformations-Using-OpenCV\n",
    "## Name:dharshini\n",
    "## reg no:212224230061"
   ]
  },
  {
   "cell_type": "code",
   "execution_count": 53,
   "id": "97bbb184",
   "metadata": {},
   "outputs": [],
   "source": [
    "Step1:\n",
    "Load an image from your local directory and display it."
   ]
  },
  {
   "cell_type": "code",
   "execution_count": 54,
   "id": "5d1611dc-4412-4b74-92b9-ee6ec9edb4e0",
   "metadata": {},
   "outputs": [],
   "source": [
    "import cv2\n",
    "import matplotlib.pyplot as plt"
   ]
  },
  {
   "cell_type": "code",
   "execution_count": 55,
   "id": "4a6e481a-4e8c-4ef0-814e-8d35f0bf032d",
   "metadata": {},
   "outputs": [],
   "source": [
    "# Read the image using OpenCV\n",
    "img = cv2.imread('billie.jpg', cv2.IMREAD_COLOR)"
   ]
  },
  {
   "cell_type": "code",
   "execution_count": 56,
   "id": "5a6f5d2c-92b1-46ab-a7df-8fc6bb2e9ee4",
   "metadata": {},
   "outputs": [],
   "source": [
    "# Convert BGR (OpenCV's default) to RGB (Matplotlib's expected color order)\n",
    "img_rgb = cv2.cvtColor(img, cv2.COLOR_BGR2RGB)"
   ]
  },
  {
   "cell_type": "code",
   "execution_count": 57,
   "id": "3e8485ab-9443-485c-a59e-59165292caf1",
   "metadata": {},
   "outputs": [],
   "source": [
    "# Display the image using Matplotlib\n",
    "plt.imshow(img_rgb, cmap='viridis')  # You can change 'viridis' to another cmap or use None for RGB images\n",
    "plt.title(\"Original Image\")\n",
    "plt.axis('off')  # Removes axis ticks and labels\n",
    "plt.show()"
   ]
  },
  {
   "cell_type": "raw",
   "id": "5005da6d-91bc-41bc-8185-8edfaa6984d1",
   "metadata": {},
   "source": [
    "Step2:\n",
    "o Draw a line from the top-left to the bottom-right of the image.\n",
    "\n",
    "o Draw a circle at the center of the image. \n",
    "\n",
    "o Draw a rectangle around a specific region of interest in the image. \n",
    "\n",
    "o Add the text \"OpenCV Drawing\" at the top-left corner of the image."
   ]
  },
  {
   "cell_type": "raw",
   "id": "193096e4-5f54-4550-a6da-d449db3f5c5b",
   "metadata": {},
   "source": [
    "Draw a line from the top-left to the bottom-right of the image"
   ]
  },
  {
   "cell_type": "code",
   "execution_count": 58,
   "id": "a57dc044-9b0b-4449-b727-b79d9624b2b5",
   "metadata": {},
   "outputs": [],
   "source": [
    "# Load the image\n",
    "image = cv2.imread('billie.jpg') "
   ]
  },
  {
   "cell_type": "code",
   "execution_count": 59,
   "id": "64425575-b842-457d-8c40-f1c6f1a3ef1f",
   "metadata": {},
   "outputs": [],
   "source": [
    "# Convert BGR (OpenCV's default) to RGB (Matplotlib's expected color order)\n",
    "img_rgb = cv2.cvtColor(img, cv2.COLOR_BGR2RGB)"
   ]
  },
  {
   "cell_type": "code",
   "execution_count": 8,
   "id": "32fcff7f-9dfe-4790-8395-c46f46b2d77f",
   "metadata": {},
   "outputs": [],
   "source": [
    "img_rgb.shape"
   ]
  },
  {
   "cell_type": "code",
   "execution_count": 9,
   "id": "f2342f2b-3b6e-4720-ad14-75e566259a20",
   "metadata": {},
   "outputs": [],
   "source": [
    "# Draw a line from top-left to bottom-right\n",
    "line_img = cv2.line(img_rgb, (0, 0), (768, 600), (255, 0, 0), 2) # cv2.line(image, start_point, end_point, color, thickness)"
   ]
  },
  {
   "cell_type": "code",
   "execution_count": 10,
   "id": "c1fadb28-3d17-403c-bafc-cb5f858d6085",
   "metadata": {},
   "outputs": [],
   "source": [
    "plt.imshow(line_img, cmap='viridis')  \n",
    "plt.title(\"Image with Line\")\n",
    "plt.axis('off')  \n",
    "plt.show()"
   ]
  },
  {
   "cell_type": "raw",
   "id": "e2f4661e-a804-4a80-b11c-9b38214a2804",
   "metadata": {},
   "source": [
    "Draw a circle at the center of the image."
   ]
  },
  {
   "cell_type": "code",
   "execution_count": 11,
   "id": "9a63215e-55b0-435d-af60-e786602274e8",
   "metadata": {},
   "outputs": [],
   "source": [
    "# Load the image\n",
    "image = cv2.imread('billie.jpg') \n",
    "\n",
    "# Convert BGR (OpenCV's default) to RGB (Matplotlib's expected color order)\n",
    "img_rgb = cv2.cvtColor(img, cv2.COLOR_BGR2RGB)"
   ]
  },
  {
   "cell_type": "code",
   "execution_count": 12,
   "id": "944e9dd8-fc28-485e-9d05-9237d2e12cb1",
   "metadata": {},
   "outputs": [],
   "source": [
    "img_rgb.shape"
   ]
  },
  {
   "cell_type": "code",
   "execution_count": 13,
   "id": "44f3f857-9fb8-4be1-ba99-5723cbe0719f",
   "metadata": {},
   "outputs": [],
   "source": [
    "circle_img = cv2.circle(img_rgb,(400,300),150,(255,0,0),10) # cv2.circle(image, center, radius, color, thickness)"
   ]
  },
  {
   "cell_type": "code",
   "execution_count": 14,
   "id": "1066d6b8-501f-4280-b962-cdbe9260f8b4",
   "metadata": {},
   "outputs": [],
   "source": [
    "plt.imshow(circle_img, cmap='viridis')  \n",
    "plt.title(\"Image with Circle\")\n",
    "plt.axis('off')  \n",
    "plt.show()"
   ]
  },
  {
   "cell_type": "raw",
   "id": "1fc3d85b-1d1f-4ad2-9bbb-65396b1bba47",
   "metadata": {},
   "source": [
    "Draw a rectangle around  the whole image"
   ]
  },
  {
   "cell_type": "code",
   "execution_count": 15,
   "id": "8ff15797-ba05-43aa-9340-d96fcb8a8e57",
   "metadata": {},
   "outputs": [],
   "source": [
    "# Load the image\n",
    "image = cv2.imread('billie.jpg') \n",
    "\n",
    "# Convert BGR (OpenCV's default) to RGB (Matplotlib's expected color order)\n",
    "img_rgb = cv2.cvtColor(img, cv2.COLOR_BGR2RGB)"
   ]
  },
  {
   "cell_type": "code",
   "execution_count": 16,
   "id": "a04c1c7f-0ca8-4e79-adbb-a308e9133347",
   "metadata": {},
   "outputs": [],
   "source": [
    "img.shape"
   ]
  },
  {
   "cell_type": "code",
   "execution_count": 17,
   "id": "fe84a910-7c0f-4389-898e-9680544c679b",
   "metadata": {},
   "outputs": [],
   "source": [
    "# Draw a rectangle around the Whole image\n",
    "rectangle_img = cv2.rectangle(img_rgb, (0, 0), (768, 600), (0, 0, 255), 10)  # cv2.rectangle(image, start_point, end_point, color, thickness)\n"
   ]
  },
  {
   "cell_type": "raw",
   "id": "bb4888af-adec-43d0-92ce-a721cec5fc73",
   "metadata": {},
   "source": [
    "plt.imshow(rectangle_img, cmap='viridis')  \n",
    "plt.title(\"Image with Rectangle\")\n",
    "plt.axis('off')  \n",
    "plt.show()"
   ]
  },
  {
   "cell_type": "raw",
   "id": "33d7b233-1748-47ca-be9b-2a65a0d9c15b",
   "metadata": {},
   "source": [
    "Add the text \"OpenCV Drawing\" at the top-left corner of the image."
   ]
  },
  {
   "cell_type": "code",
   "execution_count": 18,
   "id": "c74c46e6-cd99-4027-989f-e764bd4ca21e",
   "metadata": {},
   "outputs": [],
   "source": [
    "# Load the image\n",
    "image = cv2.imread('billie.jpg') \n",
    "\n",
    "# Convert BGR (OpenCV's default) to RGB (Matplotlib's expected color order)\n",
    "img_rgb = cv2.cvtColor(img, cv2.COLOR_BGR2RGB)"
   ]
  },
  {
   "cell_type": "code",
   "execution_count": 19,
   "id": "5f820408-91de-43d7-b4da-688f48566b90",
   "metadata": {},
   "outputs": [],
   "source": [
    "# Add text to the image\n",
    "text_img = cv2.putText(img_rgb, \"OpenCV Drawing\", (10, 30), cv2.FONT_HERSHEY_SIMPLEX, 1, (255, 255, 255), 10)  ## cv2.putText(image, text, position, font, font_scale, color, thickness)\n"
   ]
  },
  {
   "cell_type": "code",
   "execution_count": 20,
   "id": "b8d2e84e-8b79-4cae-8c63-29cd8cfdb76d",
   "metadata": {},
   "outputs": [],
   "source": [
    "plt.imshow(text_img, cmap='viridis')  \n",
    "plt.title(\"Image with Text\")\n",
    "plt.axis('off')  \n",
    "plt.show()"
   ]
  },
  {
   "cell_type": "raw",
   "id": "b70a0ed6-e743-450d-892b-474a63bc3cc6",
   "metadata": {},
   "source": [
    "Step3:\n",
    "o Convert the image from RGB to HSV and display it.\n",
    "    \n",
    "o Convert the image from RGB to GRAY and display it. \n",
    "\n",
    "o Convert the image from RGB to YCrCb and display it. \n",
    "    \n",
    "o Convert the HSV image back to RGB and display it."
   ]
  },
  {
   "cell_type": "code",
   "execution_count": 21,
   "id": "280fcd06-3ad1-44d7-9841-86048bbad6d6",
   "metadata": {},
   "outputs": [],
   "source": [
    "# Load the image\n",
    "image = cv2.imread('billie.jpg') "
   ]
  },
  {
   "cell_type": "code",
   "execution_count": 22,
   "id": "ca9a84bc-c091-4b81-a5b8-2560810dd2d0",
   "metadata": {},
   "outputs": [],
   "source": [
    "image_rgb = cv2.cvtColor(image, cv2.COLOR_BGR2RGB)"
   ]
  },
  {
   "cell_type": "code",
   "execution_count": 23,
   "id": "9dcf8fc0-f2b6-48db-ace0-971a377e937d",
   "metadata": {},
   "outputs": [],
   "source": [
    "# Original RGB Image\n",
    "plt.imshow(image_rgb)\n",
    "plt.title(\"Original RGB Image\")\n",
    "plt.axis(\"off\")"
   ]
  },
  {
   "cell_type": "code",
   "execution_count": 24,
   "id": "afda8be8-fb4c-4e0f-8674-f869f9ad7c2b",
   "metadata": {},
   "outputs": [],
   "source": [
    "# Convert RGB to HSV\n",
    "image_hsv = cv2.cvtColor(image_rgb, cv2.COLOR_RGB2HSV)"
   ]
  },
  {
   "cell_type": "code",
   "execution_count": 25,
   "id": "f62d067f-deca-4b0f-85bd-6a2ea92e3a82",
   "metadata": {},
   "outputs": [],
   "source": [
    "# HSV Image\n",
    "plt.imshow(image_hsv)\n",
    "plt.title(\"HSV Image\")\n",
    "plt.axis(\"off\")"
   ]
  },
  {
   "cell_type": "code",
   "execution_count": 26,
   "id": "58520f3c-1955-4a5c-b679-c97ed72f8117",
   "metadata": {},
   "outputs": [],
   "source": [
    "# Convert RGB to GRAY\n",
    "image_gray = cv2.cvtColor(image_rgb, cv2.COLOR_RGB2GRAY)"
   ]
  },
  {
   "cell_type": "code",
   "execution_count": 27,
   "id": "e89ea3a8-3bac-49fc-9338-5f7a95126bf9",
   "metadata": {},
   "outputs": [],
   "source": [
    "# Grayscale Image\n",
    "plt.imshow(image_gray, cmap='gray')\n",
    "plt.title(\"Grayscale Image\")\n",
    "plt.axis(\"off\")"
   ]
  },
  {
   "cell_type": "code",
   "execution_count": 28,
   "id": "3eab444b-53a6-4b75-88a4-a55d387021d4",
   "metadata": {},
   "outputs": [],
   "source": [
    "# Convert RGB to YCrCb\n",
    "image_ycrcb = cv2.cvtColor(image_rgb, cv2.COLOR_RGB2YCrCb)"
   ]
  },
  {
   "cell_type": "code",
   "execution_count": 29,
   "id": "cfa94e70-078a-4d9c-b613-9be6361ffa4b",
   "metadata": {},
   "outputs": [],
   "source": [
    "# YCrCb Image\n",
    "plt.imshow(image_ycrcb)\n",
    "plt.title(\"YCrCb Image\")\n",
    "plt.axis(\"off\")"
   ]
  },
  {
   "cell_type": "code",
   "execution_count": 30,
   "id": "1d308f1b-0795-49c0-8b77-3beb6bc11bc3",
   "metadata": {},
   "outputs": [],
   "source": [
    "# Convert HSV back to RGB\n",
    "image_hsv_to_rgb = cv2.cvtColor(image_hsv, cv2.COLOR_HSV2RGB)"
   ]
  },
  {
   "cell_type": "code",
   "execution_count": 31,
   "id": "5cce934a-2ad2-4513-bf55-b8a3dfb2df09",
   "metadata": {},
   "outputs": [],
   "source": [
    "plt.imshow(image_hsv_to_rgb)\n",
    "plt.title(\"HSV to RGB Image\")\n",
    "plt.axis(\"off\")"
   ]
  },
  {
   "cell_type": "raw",
   "id": "5309faeb-f326-438f-9cb9-d5f701d76ab2",
   "metadata": {},
   "source": [
    "Step4:\n",
    "o Access and print the value of the pixel at coordinates (100, 100). \n",
    "\n",
    "o Modify the color of the pixel at (200, 200) to white."
   ]
  },
  {
   "cell_type": "code",
   "execution_count": 32,
   "id": "098ef09c-309f-4102-8ebc-e1e0e8a28b4b",
   "metadata": {},
   "outputs": [],
   "source": [
    "# Modify a block of pixels (300x300) to white, starting from (200, 200)\n",
    "image[200:500, 200:500] = [255, 255, 255]  # Rows: 200-499, Columns: 200-499"
   ]
  },
  {
   "cell_type": "code",
   "execution_count": 33,
   "id": "8b362ddb-768a-4bb7-8ad2-ecdea5b4cc02",
   "metadata": {},
   "outputs": [],
   "source": [
    "# Convert BGR to RGB for displaying with Matplotlib\n",
    "image_rgb = cv2.cvtColor(image, cv2.COLOR_BGR2RGB)"
   ]
  },
  {
   "cell_type": "code",
   "execution_count": 34,
   "id": "f36f7249-a14e-4523-879b-79cec3c7ea92",
   "metadata": {},
   "outputs": [],
   "source": [
    "# Display the modified image\n",
    "plt.imshow(image_rgb)\n",
    "plt.title(\"Image with 300x300 White Block\")\n",
    "plt.axis(\"off\")\n",
    "plt.show()"
   ]
  },
  {
   "cell_type": "raw",
   "id": "8cceb4fb-e11e-4070-bb2d-7cef0874b032",
   "metadata": {},
   "source": [
    "Step5:\n",
    "o Resize the original image to half its size and display it."
   ]
  },
  {
   "cell_type": "code",
   "execution_count": 35,
   "id": "638614dc-fbed-432c-b6b2-8d14a99ee78c",
   "metadata": {},
   "outputs": [],
   "source": [
    "# Load the image\n",
    "image = cv2.imread('billie.jpg') "
   ]
  },
  {
   "cell_type": "code",
   "execution_count": 36,
   "id": "04290528-cc9e-4a78-b585-710cfdf01eb6",
   "metadata": {},
   "outputs": [],
   "source": [
    "image.shape"
   ]
  },
  {
   "cell_type": "code",
   "execution_count": 37,
   "id": "fa050b6d-1877-4abc-8e15-f1152b81fe3c",
   "metadata": {},
   "outputs": [],
   "source": [
    "# Resize the image to half its size\n",
    "resized_image = cv2.resize(image, (768 // 2, 600 // 2))  # (new_width, new_height)"
   ]
  },
  {
   "cell_type": "code",
   "execution_count": 38,
   "id": "f366e133-a23a-4473-94c2-d4c0a4dd9ef1",
   "metadata": {},
   "outputs": [],
   "source": [
    "# Convert BGR to RGB for displaying with Matplotlib\n",
    "resized_image_rgb = cv2.cvtColor(resized_image, cv2.COLOR_BGR2RGB)"
   ]
  },
  {
   "cell_type": "code",
   "execution_count": 39,
   "id": "d3c80341-9247-4550-a414-af7e3be1100c",
   "metadata": {},
   "outputs": [],
   "source": [
    "resized_image_rgb.shape"
   ]
  },
  {
   "cell_type": "code",
   "execution_count": 40,
   "id": "e049801e-c574-4814-9bd8-dafe296e7cdd",
   "metadata": {},
   "outputs": [],
   "source": [
    "# Display the resized image\n",
    "plt.imshow(resized_image_rgb)\n",
    "plt.title(\"Resized Image (Half Size)\")\n",
    "plt.axis(\"off\")\n",
    "plt.show()"
   ]
  },
  {
   "cell_type": "raw",
   "id": "a049d450-addb-4b91-9ffa-62125c6735c5",
   "metadata": {},
   "source": [
    "Step6:\n",
    "o Crop a region of interest (ROI) from the image (e.g., a 100x100 pixel area starting at (50, 50)) and display it."
   ]
  },
  {
   "cell_type": "code",
   "execution_count": 41,
   "id": "0cb7482e-43c9-4b0a-9f07-00ca65d81572",
   "metadata": {},
   "outputs": [],
   "source": [
    "# Load the image\n",
    "image = cv2.imread('billie.jpg') "
   ]
  },
  {
   "cell_type": "code",
   "execution_count": 42,
   "id": "0fa7ff1a-f6d6-489c-8b1d-47e4782119f5",
   "metadata": {},
   "outputs": [],
   "source": [
    "image.shape"
   ]
  },
  {
   "cell_type": "code",
   "execution_count": 43,
   "id": "0a26103d-ccf1-43aa-ab0d-404acd65e9c3",
   "metadata": {},
   "outputs": [],
   "source": [
    "# Crop a 300x300 region starting from (50, 50)\n",
    "roi = image[50:350, 50:350]  # Rows: 50-349, Columns: 50-349"
   ]
  },
  {
   "cell_type": "code",
   "execution_count": 44,
   "id": "27ce86e9-4499-4151-ada5-5d3fee54fdbe",
   "metadata": {},
   "outputs": [],
   "source": [
    "# Convert BGR to RGB for displaying with Matplotlib\n",
    "roi_rgb = cv2.cvtColor(roi, cv2.COLOR_BGR2RGB)"
   ]
  },
  {
   "cell_type": "code",
   "execution_count": 45,
   "id": "77d4c544-9086-4747-bd26-35529f2673d2",
   "metadata": {},
   "outputs": [],
   "source": [
    "# Display the cropped region (ROI)\n",
    "plt.imshow(roi_rgb)\n",
    "plt.title(\"Cropped Region of Interest (ROI)\")\n",
    "plt.axis(\"off\")\n",
    "plt.show()"
   ]
  },
  {
   "cell_type": "raw",
   "id": "d8cbcb27-b60c-4b5e-877b-2e4b58472cb2",
   "metadata": {},
   "source": [
    "Step7:\n",
    "o Flip the original image horizontally and display it. \n",
    "\n",
    "o Flip the original image vertically and display it."
   ]
  },
  {
   "cell_type": "code",
   "execution_count": 46,
   "id": "ea1e663d-dcca-414c-84f8-78ffdafd42dd",
   "metadata": {},
   "outputs": [],
   "source": [
    "# Load the image\n",
    "image = cv2.imread('billie.jpg') "
   ]
  },
  {
   "cell_type": "code",
   "execution_count": 47,
   "id": "b755de7f-74be-4984-8f95-2d7631d2de6a",
   "metadata": {},
   "outputs": [],
   "source": [
    "# Flip the image horizontally (left-right)\n",
    "flipped_horizontally = cv2.flip(image, 1)"
   ]
  },
  {
   "cell_type": "code",
   "execution_count": 48,
   "id": "552ec002-b908-4888-9b3f-37a1f8a94837",
   "metadata": {},
   "outputs": [],
   "source": [
    "# Convert BGR to RGB for displaying with Matplotlib\n",
    "flipped_horizontally_rgb = cv2.cvtColor(flipped_horizontally, cv2.COLOR_BGR2RGB)"
   ]
  },
  {
   "cell_type": "code",
   "execution_count": 49,
   "id": "47774f0e-d6a6-4867-b9d0-a91e1c222f70",
   "metadata": {},
   "outputs": [],
   "source": [
    "# Horizontal flip\n",
    "plt.imshow(flipped_horizontally_rgb)\n",
    "plt.title(\"Flipped Horizontally\")\n",
    "plt.axis(\"off\")"
   ]
  },
  {
   "cell_type": "code",
   "execution_count": 50,
   "id": "93229398-69ae-4586-ab69-5bb8ebc13bf7",
   "metadata": {},
   "outputs": [],
   "source": [
    "# Flip the image vertically (up-down)\n",
    "flipped_vertically = cv2.flip(image, 0)"
   ]
  },
  {
   "cell_type": "code",
   "execution_count": 51,
   "id": "c0ce65b7-025d-464c-b9a1-72e1150477d3",
   "metadata": {},
   "outputs": [],
   "source": [
    "# Convert BGR to RGB for displaying with Matplotlib\n",
    "flipped_vertically_rgb = cv2.cvtColor(flipped_vertically, cv2.COLOR_BGR2RGB)"
   ]
  },
  {
   "cell_type": "code",
   "execution_count": 52,
   "id": "5a473d78-c723-4226-915e-4e0c551227ff",
   "metadata": {},
   "outputs": [],
   "source": [
    "# Vertical flip\n",
    "plt.imshow(flipped_vertically_rgb)\n",
    "plt.title(\"Flipped Vertically\")\n",
    "plt.axis(\"off\")"
   ]
  },
  {
   "cell_type": "raw",
   "id": "9ae599c9-f6ba-4a1c-b8bf-6772b6516dd1",
   "metadata": {},
   "source": [
    "Step8:\n",
    "o Save the final modified image to your local directory."
   ]
  },
  {
   "cell_type": "code",
   "execution_count": null,
   "id": "9a6f4bd4-7684-4518-b14e-156cd811caab",
   "metadata": {},
   "outputs": [],
   "source": []
  },
  {
   "cell_type": "code",
   "execution_count": null,
   "id": "1b994250-911b-4f6f-8236-3a75db8081e2",
   "metadata": {},
   "outputs": [],
   "source": []
  },
  {
   "cell_type": "code",
   "execution_count": null,
   "id": "17bc797e-10bd-451b-ad19-15e7288b581f",
   "metadata": {},
   "outputs": [],
   "source": []
  },
  {
   "cell_type": "code",
   "execution_count": null,
   "id": "882f6e06-bad9-4058-a15f-1efd82a2625b",
   "metadata": {},
   "outputs": [],
   "source": []
  }
 ],
 "metadata": {
  "kernelspec": {
   "display_name": "Python 3 (ipykernel)",
   "language": "python",
   "name": "python3"
  },
  "language_info": {
   "codemirror_mode": {
    "name": "ipython",
    "version": 3
   },
   "file_extension": ".py",
   "mimetype": "text/x-python",
   "name": "python",
   "nbconvert_exporter": "python",
   "pygments_lexer": "ipython3",
   "version": "3.11.3"
  }
 },
 "nbformat": 4,
 "nbformat_minor": 5
}
